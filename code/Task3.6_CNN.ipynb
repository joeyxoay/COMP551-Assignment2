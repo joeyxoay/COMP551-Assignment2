{
  "nbformat": 4,
  "nbformat_minor": 0,
  "metadata": {
    "colab": {
      "provenance": []
    },
    "kernelspec": {
      "name": "python3",
      "display_name": "Python 3"
    },
    "language_info": {
      "name": "python"
    }
  },
  "cells": [
    {
      "cell_type": "markdown",
      "source": [
        "## 3.6 Train the CNN on the Fashion MNIST dataset"
      ],
      "metadata": {
        "id": "BoB2P6oJ5GOe"
      }
    },
    {
      "cell_type": "code",
      "source": [
        "import torch\n",
        "from torchvision import datasets, transforms\n",
        "import numpy as np\n",
        "from sklearn.model_selection import train_test_split\n",
        "import matplotlib.pyplot as plt\n",
        "import math\n",
        "from typing import List\n",
        "from tqdm import tqdm\n",
        "\n",
        "import torch.nn as nn\n",
        "import torch.optim as optim"
      ],
      "metadata": {
        "id": "HaSSKNaS55MT"
      },
      "execution_count": null,
      "outputs": []
    },
    {
      "cell_type": "code",
      "source": [
        "# Define a data transform to convert the data to PyTorch tensors\n",
        "transform = transforms.ToTensor()\n",
        "\n",
        "# ============ FashionMNIST ============\n",
        "# Load the training and testing datasets\n",
        "train_dataset_fashion = datasets.FashionMNIST(root='./data', train=True, transform=transform, download=True)\n",
        "test_dataset_fashion = datasets.FashionMNIST(root='./data', train=False, transform=transform, download=True)\n",
        "labels_fashion = ['T-shirt/top', 'Trouser', 'Pullover', 'Dress', 'Coat', 'Sandal', 'Shirt', 'Sneaker', 'Bag', 'Ankle boot']\n",
        "labels_CIFAR10 = ['Airplane', 'Automobile', 'Bird', 'Cat', 'Deer', 'Dog', 'Frog', 'Horse', 'Ship', 'Truck']\n",
        "\n",
        "# Create data loaders to iterate through the datasets\n",
        "train_loader_fashion = torch.utils.data.DataLoader(train_dataset_fashion, batch_size=len(train_dataset_fashion), shuffle=True)\n",
        "test_loader_fashion = torch.utils.data.DataLoader(test_dataset_fashion, batch_size=len(test_dataset_fashion), shuffle=False)\n",
        "\n",
        "# Access the data and labels\n",
        "X_train_fashion_raw, y_train_fashion_beforeSplit = next(iter(train_loader_fashion))\n",
        "X_test_fashion_raw, y_test_fashion = next(iter(test_loader_fashion))"
      ],
      "metadata": {
        "colab": {
          "base_uri": "https://localhost:8080/"
        },
        "id": "EMoYtRxGzGDq",
        "outputId": "3e95fa2f-a3a1-4404-b07d-84674a473302"
      },
      "execution_count": null,
      "outputs": [
        {
          "output_type": "stream",
          "name": "stdout",
          "text": [
            "Downloading http://fashion-mnist.s3-website.eu-central-1.amazonaws.com/train-images-idx3-ubyte.gz\n",
            "Downloading http://fashion-mnist.s3-website.eu-central-1.amazonaws.com/train-images-idx3-ubyte.gz to ./data/FashionMNIST/raw/train-images-idx3-ubyte.gz\n"
          ]
        },
        {
          "output_type": "stream",
          "name": "stderr",
          "text": [
            "100%|██████████| 26421880/26421880 [00:01<00:00, 20523704.74it/s]\n"
          ]
        },
        {
          "output_type": "stream",
          "name": "stdout",
          "text": [
            "Extracting ./data/FashionMNIST/raw/train-images-idx3-ubyte.gz to ./data/FashionMNIST/raw\n",
            "\n",
            "Downloading http://fashion-mnist.s3-website.eu-central-1.amazonaws.com/train-labels-idx1-ubyte.gz\n",
            "Downloading http://fashion-mnist.s3-website.eu-central-1.amazonaws.com/train-labels-idx1-ubyte.gz to ./data/FashionMNIST/raw/train-labels-idx1-ubyte.gz\n"
          ]
        },
        {
          "output_type": "stream",
          "name": "stderr",
          "text": [
            "100%|██████████| 29515/29515 [00:00<00:00, 335256.71it/s]\n"
          ]
        },
        {
          "output_type": "stream",
          "name": "stdout",
          "text": [
            "Extracting ./data/FashionMNIST/raw/train-labels-idx1-ubyte.gz to ./data/FashionMNIST/raw\n",
            "\n",
            "Downloading http://fashion-mnist.s3-website.eu-central-1.amazonaws.com/t10k-images-idx3-ubyte.gz\n",
            "Downloading http://fashion-mnist.s3-website.eu-central-1.amazonaws.com/t10k-images-idx3-ubyte.gz to ./data/FashionMNIST/raw/t10k-images-idx3-ubyte.gz\n"
          ]
        },
        {
          "output_type": "stream",
          "name": "stderr",
          "text": [
            "100%|██████████| 4422102/4422102 [00:00<00:00, 6181326.92it/s]\n"
          ]
        },
        {
          "output_type": "stream",
          "name": "stdout",
          "text": [
            "Extracting ./data/FashionMNIST/raw/t10k-images-idx3-ubyte.gz to ./data/FashionMNIST/raw\n",
            "\n",
            "Downloading http://fashion-mnist.s3-website.eu-central-1.amazonaws.com/t10k-labels-idx1-ubyte.gz\n",
            "Downloading http://fashion-mnist.s3-website.eu-central-1.amazonaws.com/t10k-labels-idx1-ubyte.gz to ./data/FashionMNIST/raw/t10k-labels-idx1-ubyte.gz\n"
          ]
        },
        {
          "output_type": "stream",
          "name": "stderr",
          "text": [
            "100%|██████████| 5148/5148 [00:00<00:00, 20603317.74it/s]\n"
          ]
        },
        {
          "output_type": "stream",
          "name": "stdout",
          "text": [
            "Extracting ./data/FashionMNIST/raw/t10k-labels-idx1-ubyte.gz to ./data/FashionMNIST/raw\n",
            "\n"
          ]
        }
      ]
    },
    {
      "cell_type": "code",
      "source": [
        "\n",
        "# Define the CNN architecture\n",
        "class SimpleCNN(nn.Module):\n",
        "    def __init__(self):\n",
        "        super(SimpleCNN, self).__init__()\n",
        "        self.conv1 = nn.Conv2d(1, 16, 3, padding=1)  # 16 output channels, 3x3 kernel\n",
        "        self.pool = nn.MaxPool2d(2, 2)  # 2x2 max pooling layer\n",
        "        self.conv2 = nn.Conv2d(16, 32, 3, padding=1)  # 32 output channels, 3x3 kernel\n",
        "        self.fc1 = nn.Linear(32 * 7 * 7, 128)  # 128 units in the first fully connected layer\n",
        "        self.fc2 = nn.Linear(128, 10)  # 10 classes in Fashion MNIST\n",
        "        self.relu = nn.ReLU()\n",
        "\n",
        "    def forward(self, x):\n",
        "        x = self.relu(self.conv1(x))\n",
        "        x = self.pool(x)\n",
        "        x = self.relu(self.conv2(x))\n",
        "        x = self.pool(x)\n",
        "        x = x.view(-1, 32 * 7 * 7)  # Flatten the tensor for the fully connected layer\n",
        "        x = self.relu(self.fc1(x))\n",
        "        x = self.fc2(x)\n",
        "        return x\n",
        "\n",
        "def train_model(model, train_loader, criterion, optimizer):\n",
        "    model.train()  # Set the model to training mode\n",
        "    for X_batch, y_batch in train_loader:\n",
        "        optimizer.zero_grad()  # Zero the parameter gradients\n",
        "        outputs = model(X_batch)  # Forward pass\n",
        "        loss = criterion(outputs, y_batch)  # Compute loss\n",
        "        loss.backward()  # Backward pass\n",
        "        optimizer.step()  # Update weights\n",
        "\n",
        "def evaluate_model(model, test_loader):\n",
        "    model.eval()  # Set the model to evaluation mode\n",
        "    correct = 0\n",
        "    total = 0\n",
        "    with torch.no_grad():\n",
        "        for X_batch, y_batch in test_loader:\n",
        "            outputs = model(X_batch)\n",
        "            _, predicted = torch.max(outputs.data, 1)\n",
        "            total += y_batch.size(0)\n",
        "            correct += (predicted == y_batch).sum().item()\n",
        "    print(f'Accuracy: {100 * correct / total}%')\n",
        "\n",
        "# Initialize the CNN\n",
        "cnn = SimpleCNN()\n",
        "\n",
        "# Define the loss function and optimizer\n",
        "criterion = nn.CrossEntropyLoss()\n",
        "optimizer = optim.Adam(cnn.parameters(), lr=0.001)  # Learning rate of 0.001\n",
        "\n",
        "# Train the CNN\n",
        "num_epochs = 100  # Training for 100 epochs\n",
        "for epoch in range(num_epochs):\n",
        "    print(f'Epoch {epoch+1}/{num_epochs}')\n",
        "    train_model(cnn, train_loader_fashion, criterion, optimizer)\n",
        "\n",
        "# Evaluate the CNN\n",
        "evaluate_model(cnn, test_loader_fashion)\n",
        "\n"
      ],
      "metadata": {
        "colab": {
          "base_uri": "https://localhost:8080/"
        },
        "id": "X5DjnOf9zZeL",
        "outputId": "7ee74ade-6e9d-40e3-9a77-c737ea09adf5"
      },
      "execution_count": null,
      "outputs": [
        {
          "output_type": "stream",
          "name": "stdout",
          "text": [
            "Epoch 1/100\n",
            "Epoch 2/100\n",
            "Epoch 3/100\n",
            "Epoch 4/100\n",
            "Epoch 5/100\n",
            "Epoch 6/100\n",
            "Epoch 7/100\n",
            "Epoch 8/100\n",
            "Epoch 9/100\n",
            "Epoch 10/100\n",
            "Epoch 11/100\n",
            "Epoch 12/100\n",
            "Epoch 13/100\n",
            "Epoch 14/100\n",
            "Epoch 15/100\n",
            "Epoch 16/100\n",
            "Epoch 17/100\n",
            "Epoch 18/100\n",
            "Epoch 19/100\n",
            "Epoch 20/100\n",
            "Epoch 21/100\n",
            "Epoch 22/100\n",
            "Epoch 23/100\n",
            "Epoch 24/100\n",
            "Epoch 25/100\n",
            "Epoch 26/100\n",
            "Epoch 27/100\n",
            "Epoch 28/100\n",
            "Epoch 29/100\n",
            "Epoch 30/100\n",
            "Epoch 31/100\n",
            "Epoch 32/100\n",
            "Epoch 33/100\n",
            "Epoch 34/100\n",
            "Epoch 35/100\n",
            "Epoch 36/100\n",
            "Epoch 37/100\n",
            "Epoch 38/100\n",
            "Epoch 39/100\n",
            "Epoch 40/100\n",
            "Epoch 41/100\n",
            "Epoch 42/100\n",
            "Epoch 43/100\n",
            "Epoch 44/100\n",
            "Epoch 45/100\n",
            "Epoch 46/100\n",
            "Epoch 47/100\n",
            "Epoch 48/100\n",
            "Epoch 49/100\n",
            "Epoch 50/100\n",
            "Epoch 51/100\n",
            "Epoch 52/100\n",
            "Epoch 53/100\n",
            "Epoch 54/100\n",
            "Epoch 55/100\n",
            "Epoch 56/100\n",
            "Epoch 57/100\n",
            "Epoch 58/100\n",
            "Epoch 59/100\n",
            "Epoch 60/100\n",
            "Epoch 61/100\n",
            "Epoch 62/100\n",
            "Epoch 63/100\n",
            "Epoch 64/100\n",
            "Epoch 65/100\n",
            "Epoch 66/100\n",
            "Epoch 67/100\n",
            "Epoch 68/100\n",
            "Epoch 69/100\n",
            "Epoch 70/100\n",
            "Epoch 71/100\n",
            "Epoch 72/100\n",
            "Epoch 73/100\n",
            "Epoch 74/100\n",
            "Epoch 75/100\n",
            "Epoch 76/100\n",
            "Epoch 77/100\n",
            "Epoch 78/100\n",
            "Epoch 79/100\n",
            "Epoch 80/100\n",
            "Epoch 81/100\n",
            "Epoch 82/100\n",
            "Epoch 83/100\n",
            "Epoch 84/100\n",
            "Epoch 85/100\n",
            "Epoch 86/100\n",
            "Epoch 87/100\n",
            "Epoch 88/100\n",
            "Epoch 89/100\n",
            "Epoch 90/100\n",
            "Epoch 91/100\n",
            "Epoch 92/100\n",
            "Epoch 93/100\n",
            "Epoch 94/100\n",
            "Epoch 95/100\n",
            "Epoch 96/100\n",
            "Epoch 97/100\n",
            "Epoch 98/100\n",
            "Epoch 99/100\n",
            "Epoch 100/100\n",
            "Accuracy: 84.57%\n"
          ]
        }
      ]
    },
    {
      "cell_type": "markdown",
      "source": [
        "## Improved Version"
      ],
      "metadata": {
        "id": "SYq_8gHRIgkx"
      }
    },
    {
      "cell_type": "code",
      "source": [
        "import matplotlib.pyplot as plt\n",
        "import torch\n",
        "import torch.nn as nn\n",
        "import torch.optim as optim\n",
        "from torchvision import datasets, transforms\n",
        "from torch.utils.data import DataLoader, random_split\n",
        "\n",
        "# Define the CNN architecture\n",
        "class SimpleCNN(nn.Module):\n",
        "    def __init__(self):\n",
        "        super(SimpleCNN, self).__init__()\n",
        "        self.conv1 = nn.Conv2d(1, 16, 3, padding=1)\n",
        "        self.pool = nn.MaxPool2d(2, 2)\n",
        "        self.conv2 = nn.Conv2d(16, 32, 3, padding=1)\n",
        "        self.fc1 = nn.Linear(32 * 7 * 7, 128)\n",
        "        self.fc2 = nn.Linear(128, 10)\n",
        "        self.relu = nn.ReLU()\n",
        "\n",
        "    def forward(self, x):\n",
        "        x = self.relu(self.conv1(x))\n",
        "        x = self.pool(x)\n",
        "        x = self.relu(self.conv2(x))\n",
        "        x = self.pool(x)\n",
        "        x = x.view(-1, 32 * 7 * 7)\n",
        "        x = self.relu(self.fc1(x))\n",
        "        x = self.fc2(x)\n",
        "        return x\n",
        "\n",
        "# Training function\n",
        "def train_model(model, train_loader, criterion, optimizer, scheduler):\n",
        "    model.train()\n",
        "    running_loss = 0.0\n",
        "    for X_batch, y_batch in train_loader:\n",
        "        optimizer.zero_grad()\n",
        "        outputs = model(X_batch)\n",
        "        loss = criterion(outputs, y_batch)\n",
        "        loss.backward()\n",
        "        optimizer.step()\n",
        "        running_loss += loss.item() * X_batch.size(0)\n",
        "    scheduler.step(running_loss / len(train_loader.dataset))\n",
        "    return running_loss / len(train_loader.dataset)\n",
        "\n",
        "# Loss evaluation function\n",
        "def evaluate_loss(model, loader, criterion):\n",
        "    model.eval()\n",
        "    running_loss = 0.0\n",
        "    with torch.no_grad():\n",
        "        for X_batch, y_batch in loader:\n",
        "            outputs = model(X_batch)\n",
        "            loss = criterion(outputs, y_batch)\n",
        "            running_loss += loss.item() * X_batch.size(0)\n",
        "    return running_loss / len(loader.dataset)\n",
        "\n",
        "# Model evaluation function for accuracy\n",
        "def evaluate_model(model, test_loader):\n",
        "    model.eval()\n",
        "    correct = 0\n",
        "    total = 0\n",
        "    with torch.no_grad():\n",
        "        for X_batch, y_batch in test_loader:\n",
        "            outputs = model(X_batch)\n",
        "            _, predicted = torch.max(outputs.data, 1)\n",
        "            total += y_batch.size(0)\n",
        "            correct += (predicted == y_batch).sum().item()\n",
        "    accuracy = 100 * correct / total\n",
        "    print(f'Accuracy: {accuracy}%')\n",
        "    return accuracy\n",
        "\n",
        "# Data loading and transformation\n",
        "transform = transforms.Compose([transforms.ToTensor(), transforms.Normalize((0.5,), (0.5,))])\n",
        "train_dataset_fashion = datasets.FashionMNIST(root='./data', train=True, transform=transform, download=True)\n",
        "test_dataset_fashion = datasets.FashionMNIST(root='./data', train=False, transform=transform, download=True)\n",
        "\n",
        "# Splitting training data into training and validation sets (10% for validation)\n",
        "val_size = int(0.1 * len(train_dataset_fashion))\n",
        "train_size = len(train_dataset_fashion) - val_size\n",
        "train_dataset, val_dataset = random_split(train_dataset_fashion, [train_size, val_size])\n",
        "\n",
        "# Creating DataLoaders\n",
        "batch_size = 64\n",
        "train_loader_fashion = DataLoader(train_dataset, batch_size=batch_size, shuffle=True)\n",
        "val_loader_fashion = DataLoader(val_dataset, batch_size=batch_size, shuffle=False)\n",
        "test_loader_fashion = DataLoader(test_dataset_fashion, batch_size=batch_size, shuffle=False)\n",
        "\n",
        "# Initialize the CNN\n",
        "cnn = SimpleCNN()\n",
        "\n",
        "# Define the loss function and optimizer\n",
        "criterion = nn.CrossEntropyLoss()\n",
        "optimizer = optim.Adam(cnn.parameters(), lr=0.001)\n",
        "\n",
        "# Define the learning rate scheduler\n",
        "scheduler = optim.lr_scheduler.ReduceLROnPlateau(optimizer, 'min', patience=5, factor=0.5, verbose=True)\n",
        "\n",
        "# Train the CNN and track accuracy every 10 epochs\n",
        "num_epochs = 100\n",
        "accuracy_per_10_epochs = []\n",
        "for epoch in range(num_epochs):\n",
        "    print(f'Epoch {epoch+1}/{num_epochs}')\n",
        "    train_loss = train_model(cnn, train_loader_fashion, criterion, optimizer, scheduler)\n",
        "    val_loss = evaluate_loss(cnn, val_loader_fashion, criterion)\n",
        "    print(f'Training Loss: {train_loss:.4f}, Validation Loss: {val_loss:.4f}')\n",
        "\n",
        "    if (epoch + 1) % 10 == 0:\n",
        "        accuracy = evaluate_model(cnn, test_loader_fashion)\n",
        "        accuracy_per_10_epochs.append(accuracy)\n",
        "\n",
        "# Plot the accuracy over epochs\n",
        "epochs_x = [i for i in range(10, num_epochs + 1, 10)]\n",
        "plt.plot(epochs_x, accuracy_per_10_epochs)\n",
        "plt.xlabel('Epochs')\n",
        "plt.ylabel('Accuracy')\n",
        "plt.title('Accuracy over Epochs')\n",
        "plt.show()\n"
      ],
      "metadata": {
        "colab": {
          "base_uri": "https://localhost:8080/",
          "height": 1000
        },
        "id": "TJV9lYrsImi6",
        "outputId": "52ade191-a7fc-4c1f-e79a-99c5c8f0c9ac"
      },
      "execution_count": null,
      "outputs": [
        {
          "output_type": "stream",
          "name": "stdout",
          "text": [
            "Epoch 1/100\n",
            "Training Loss: 0.4861, Validation Loss: 0.3804\n",
            "Epoch 2/100\n",
            "Training Loss: 0.3173, Validation Loss: 0.3013\n",
            "Epoch 3/100\n",
            "Training Loss: 0.2745, Validation Loss: 0.2951\n",
            "Epoch 4/100\n",
            "Training Loss: 0.2467, Validation Loss: 0.2545\n",
            "Epoch 5/100\n",
            "Training Loss: 0.2202, Validation Loss: 0.2660\n",
            "Epoch 6/100\n",
            "Training Loss: 0.1999, Validation Loss: 0.2507\n",
            "Epoch 7/100\n",
            "Training Loss: 0.1848, Validation Loss: 0.2366\n",
            "Epoch 8/100\n",
            "Training Loss: 0.1672, Validation Loss: 0.2453\n",
            "Epoch 9/100\n",
            "Training Loss: 0.1517, Validation Loss: 0.2583\n",
            "Epoch 10/100\n",
            "Training Loss: 0.1366, Validation Loss: 0.2596\n",
            "Accuracy: 90.56%\n",
            "Epoch 11/100\n",
            "Training Loss: 0.1267, Validation Loss: 0.2714\n",
            "Epoch 12/100\n",
            "Training Loss: 0.1148, Validation Loss: 0.2660\n",
            "Epoch 13/100\n",
            "Training Loss: 0.1015, Validation Loss: 0.2851\n",
            "Epoch 14/100\n",
            "Training Loss: 0.0921, Validation Loss: 0.2805\n",
            "Epoch 15/100\n",
            "Training Loss: 0.0827, Validation Loss: 0.3012\n",
            "Epoch 16/100\n",
            "Training Loss: 0.0742, Validation Loss: 0.3221\n",
            "Epoch 17/100\n",
            "Training Loss: 0.0674, Validation Loss: 0.3423\n",
            "Epoch 18/100\n",
            "Training Loss: 0.0590, Validation Loss: 0.3745\n",
            "Epoch 19/100\n",
            "Training Loss: 0.0518, Validation Loss: 0.3607\n",
            "Epoch 20/100\n",
            "Training Loss: 0.0485, Validation Loss: 0.4161\n",
            "Accuracy: 91.11%\n",
            "Epoch 21/100\n",
            "Training Loss: 0.0426, Validation Loss: 0.4065\n",
            "Epoch 22/100\n",
            "Training Loss: 0.0399, Validation Loss: 0.4485\n",
            "Epoch 23/100\n",
            "Training Loss: 0.0354, Validation Loss: 0.4277\n",
            "Epoch 24/100\n",
            "Training Loss: 0.0310, Validation Loss: 0.4892\n",
            "Epoch 25/100\n",
            "Training Loss: 0.0329, Validation Loss: 0.4812\n",
            "Epoch 26/100\n",
            "Training Loss: 0.0284, Validation Loss: 0.5024\n",
            "Epoch 27/100\n",
            "Training Loss: 0.0272, Validation Loss: 0.5220\n",
            "Epoch 28/100\n",
            "Training Loss: 0.0221, Validation Loss: 0.5439\n",
            "Epoch 29/100\n",
            "Training Loss: 0.0243, Validation Loss: 0.5239\n",
            "Epoch 30/100\n",
            "Training Loss: 0.0192, Validation Loss: 0.5850\n",
            "Accuracy: 91.19%\n",
            "Epoch 31/100\n",
            "Training Loss: 0.0209, Validation Loss: 0.6078\n",
            "Epoch 32/100\n",
            "Training Loss: 0.0216, Validation Loss: 0.5837\n",
            "Epoch 33/100\n",
            "Training Loss: 0.0192, Validation Loss: 0.6129\n",
            "Epoch 34/100\n",
            "Training Loss: 0.0188, Validation Loss: 0.6203\n",
            "Epoch 35/100\n",
            "Training Loss: 0.0193, Validation Loss: 0.6484\n",
            "Epoch 36/100\n",
            "Training Loss: 0.0162, Validation Loss: 0.6346\n",
            "Epoch 37/100\n",
            "Training Loss: 0.0123, Validation Loss: 0.7287\n",
            "Epoch 38/100\n",
            "Training Loss: 0.0189, Validation Loss: 0.6419\n",
            "Epoch 39/100\n",
            "Training Loss: 0.0144, Validation Loss: 0.6853\n",
            "Epoch 40/100\n",
            "Training Loss: 0.0196, Validation Loss: 0.6551\n",
            "Accuracy: 90.76%\n",
            "Epoch 41/100\n",
            "Training Loss: 0.0158, Validation Loss: 0.6685\n",
            "Epoch 42/100\n",
            "Training Loss: 0.0129, Validation Loss: 0.7317\n",
            "Epoch 43/100\n",
            "Epoch 00043: reducing learning rate of group 0 to 5.0000e-04.\n",
            "Training Loss: 0.0135, Validation Loss: 0.7530\n",
            "Epoch 44/100\n",
            "Training Loss: 0.0036, Validation Loss: 0.6878\n",
            "Epoch 45/100\n",
            "Training Loss: 0.0006, Validation Loss: 0.7065\n",
            "Epoch 46/100\n",
            "Training Loss: 0.0003, Validation Loss: 0.7360\n",
            "Epoch 47/100\n",
            "Training Loss: 0.0002, Validation Loss: 0.7484\n",
            "Epoch 48/100\n",
            "Training Loss: 0.0002, Validation Loss: 0.7729\n",
            "Epoch 49/100\n",
            "Training Loss: 0.0104, Validation Loss: 0.7269\n",
            "Epoch 50/100\n",
            "Training Loss: 0.0023, Validation Loss: 0.7315\n",
            "Accuracy: 91.36%\n",
            "Epoch 51/100\n",
            "Training Loss: 0.0006, Validation Loss: 0.7557\n",
            "Epoch 52/100\n",
            "Training Loss: 0.0002, Validation Loss: 0.7732\n",
            "Epoch 53/100\n",
            "Training Loss: 0.0001, Validation Loss: 0.7975\n",
            "Epoch 54/100\n",
            "Training Loss: 0.0001, Validation Loss: 0.8123\n",
            "Epoch 55/100\n",
            "Training Loss: 0.0001, Validation Loss: 0.8261\n",
            "Epoch 56/100\n",
            "Training Loss: 0.0001, Validation Loss: 0.8484\n",
            "Epoch 57/100\n",
            "Training Loss: 0.0113, Validation Loss: 0.7952\n",
            "Epoch 58/100\n",
            "Training Loss: 0.0020, Validation Loss: 0.7712\n",
            "Epoch 59/100\n",
            "Training Loss: 0.0007, Validation Loss: 0.7732\n",
            "Epoch 60/100\n",
            "Training Loss: 0.0001, Validation Loss: 0.7996\n",
            "Accuracy: 91.42%\n",
            "Epoch 61/100\n",
            "Training Loss: 0.0001, Validation Loss: 0.8166\n",
            "Epoch 62/100\n",
            "Epoch 00062: reducing learning rate of group 0 to 2.5000e-04.\n",
            "Training Loss: 0.0001, Validation Loss: 0.8323\n",
            "Epoch 63/100\n",
            "Training Loss: 0.0000, Validation Loss: 0.8403\n",
            "Epoch 64/100\n",
            "Training Loss: 0.0000, Validation Loss: 0.8516\n",
            "Epoch 65/100\n",
            "Training Loss: 0.0000, Validation Loss: 0.8637\n",
            "Epoch 66/100\n",
            "Training Loss: 0.0000, Validation Loss: 0.8756\n",
            "Epoch 67/100\n",
            "Training Loss: 0.0000, Validation Loss: 0.8914\n",
            "Epoch 68/100\n",
            "Training Loss: 0.0022, Validation Loss: 0.8630\n",
            "Epoch 69/100\n",
            "Training Loss: 0.0001, Validation Loss: 0.8677\n",
            "Epoch 70/100\n",
            "Training Loss: 0.0000, Validation Loss: 0.8771\n",
            "Accuracy: 91.6%\n",
            "Epoch 71/100\n",
            "Training Loss: 0.0000, Validation Loss: 0.8894\n",
            "Epoch 72/100\n",
            "Training Loss: 0.0000, Validation Loss: 0.9002\n",
            "Epoch 73/100\n",
            "Training Loss: 0.0000, Validation Loss: 0.9103\n",
            "Epoch 74/100\n",
            "Training Loss: 0.0000, Validation Loss: 0.9256\n",
            "Epoch 75/100\n",
            "Training Loss: 0.0000, Validation Loss: 0.9430\n",
            "Epoch 76/100\n",
            "Training Loss: 0.0000, Validation Loss: 0.9543\n",
            "Epoch 77/100\n",
            "Training Loss: 0.0000, Validation Loss: 0.9737\n",
            "Epoch 78/100\n",
            "Training Loss: 0.0000, Validation Loss: 0.9887\n",
            "Epoch 79/100\n",
            "Training Loss: 0.0018, Validation Loss: 0.9602\n",
            "Epoch 80/100\n",
            "Training Loss: 0.0005, Validation Loss: 0.9479\n",
            "Accuracy: 91.59%\n",
            "Epoch 81/100\n",
            "Training Loss: 0.0000, Validation Loss: 0.9448\n",
            "Epoch 82/100\n",
            "Training Loss: 0.0000, Validation Loss: 0.9515\n",
            "Epoch 83/100\n",
            "Training Loss: 0.0000, Validation Loss: 0.9591\n",
            "Epoch 84/100\n",
            "Epoch 00084: reducing learning rate of group 0 to 1.2500e-04.\n",
            "Training Loss: 0.0000, Validation Loss: 0.9681\n",
            "Epoch 85/100\n",
            "Training Loss: 0.0000, Validation Loss: 0.9743\n",
            "Epoch 86/100\n",
            "Training Loss: 0.0000, Validation Loss: 0.9813\n",
            "Epoch 87/100\n",
            "Training Loss: 0.0000, Validation Loss: 0.9885\n",
            "Epoch 88/100\n",
            "Training Loss: 0.0000, Validation Loss: 0.9978\n",
            "Epoch 89/100\n",
            "Training Loss: 0.0000, Validation Loss: 1.0065\n",
            "Epoch 90/100\n",
            "Training Loss: 0.0000, Validation Loss: 1.0156\n",
            "Accuracy: 91.79%\n",
            "Epoch 91/100\n",
            "Training Loss: 0.0000, Validation Loss: 1.0299\n",
            "Epoch 92/100\n",
            "Training Loss: 0.0000, Validation Loss: 1.0426\n",
            "Epoch 93/100\n",
            "Training Loss: 0.0000, Validation Loss: 1.0553\n",
            "Epoch 94/100\n",
            "Training Loss: 0.0000, Validation Loss: 1.0700\n",
            "Epoch 95/100\n",
            "Training Loss: 0.0000, Validation Loss: 1.0950\n",
            "Epoch 96/100\n",
            "Training Loss: 0.0000, Validation Loss: 1.1102\n",
            "Epoch 97/100\n",
            "Training Loss: 0.0000, Validation Loss: 1.1317\n",
            "Epoch 98/100\n",
            "Training Loss: 0.0001, Validation Loss: 1.1135\n",
            "Epoch 99/100\n",
            "Training Loss: 0.0000, Validation Loss: 1.1086\n",
            "Epoch 100/100\n",
            "Training Loss: 0.0000, Validation Loss: 1.1133\n",
            "Accuracy: 91.74%\n"
          ]
        },
        {
          "output_type": "display_data",
          "data": {
            "text/plain": [
              "<Figure size 640x480 with 1 Axes>"
            ],
            "image/png": "[encoded data removed]"
          },
          "metadata": {}
        }
      ]
    },
    {
      "cell_type": "markdown",
      "source": [
        "# **Creativity: Experiment impact of varying number of filters (CNN)**"
      ],
      "metadata": {
        "id": "w8xneGkDS7Ui"
      }
    },
    {
      "cell_type": "code",
      "source": [
        "import torch\n",
        "import torch.nn as nn\n",
        "import torch.optim as optim\n",
        "import torchvision.transforms as transforms\n",
        "import torchvision.datasets as datasets\n",
        "import matplotlib.pyplot as plt\n",
        "from torch.utils.data import DataLoader\n",
        "\n",
        "# Transformations\n",
        "transform = transforms.Compose([transforms.ToTensor(), transforms.Normalize((0.5,), (0.5,))])\n",
        "\n",
        "# Datasets\n",
        "train_dataset = datasets.FashionMNIST(root='./data', train=True, download=True, transform=transform)\n",
        "test_dataset = datasets.FashionMNIST(root='./data', train=False, download=True, transform=transform)\n",
        "\n",
        "# Data loaders\n",
        "train_loader = DataLoader(dataset=train_dataset, batch_size=64, shuffle=True)\n",
        "test_loader = DataLoader(dataset=test_dataset, batch_size=1000, shuffle=False)\n"
      ],
      "metadata": {
        "colab": {
          "base_uri": "https://localhost:8080/"
        },
        "id": "-I9JN7WZUaJi",
        "outputId": "afec6a05-13c8-4b09-d909-138402abd517"
      },
      "execution_count": null,
      "outputs": [
        {
          "output_type": "stream",
          "name": "stdout",
          "text": [
            "Downloading http://fashion-mnist.s3-website.eu-central-1.amazonaws.com/train-images-idx3-ubyte.gz\n",
            "Downloading http://fashion-mnist.s3-website.eu-central-1.amazonaws.com/train-images-idx3-ubyte.gz to ./data/FashionMNIST/raw/train-images-idx3-ubyte.gz\n"
          ]
        },
        {
          "output_type": "stream",
          "name": "stderr",
          "text": [
            "100%|██████████| 26421880/26421880 [00:01<00:00, 17112281.99it/s]\n"
          ]
        },
        {
          "output_type": "stream",
          "name": "stdout",
          "text": [
            "Extracting ./data/FashionMNIST/raw/train-images-idx3-ubyte.gz to ./data/FashionMNIST/raw\n",
            "\n",
            "Downloading http://fashion-mnist.s3-website.eu-central-1.amazonaws.com/train-labels-idx1-ubyte.gz\n",
            "Downloading http://fashion-mnist.s3-website.eu-central-1.amazonaws.com/train-labels-idx1-ubyte.gz to ./data/FashionMNIST/raw/train-labels-idx1-ubyte.gz\n"
          ]
        },
        {
          "output_type": "stream",
          "name": "stderr",
          "text": [
            "100%|██████████| 29515/29515 [00:00<00:00, 270183.60it/s]\n"
          ]
        },
        {
          "output_type": "stream",
          "name": "stdout",
          "text": [
            "Extracting ./data/FashionMNIST/raw/train-labels-idx1-ubyte.gz to ./data/FashionMNIST/raw\n",
            "\n",
            "Downloading http://fashion-mnist.s3-website.eu-central-1.amazonaws.com/t10k-images-idx3-ubyte.gz\n",
            "Downloading http://fashion-mnist.s3-website.eu-central-1.amazonaws.com/t10k-images-idx3-ubyte.gz to ./data/FashionMNIST/raw/t10k-images-idx3-ubyte.gz\n"
          ]
        },
        {
          "output_type": "stream",
          "name": "stderr",
          "text": [
            "100%|██████████| 4422102/4422102 [00:00<00:00, 4963851.63it/s]\n"
          ]
        },
        {
          "output_type": "stream",
          "name": "stdout",
          "text": [
            "Extracting ./data/FashionMNIST/raw/t10k-images-idx3-ubyte.gz to ./data/FashionMNIST/raw\n",
            "\n",
            "Downloading http://fashion-mnist.s3-website.eu-central-1.amazonaws.com/t10k-labels-idx1-ubyte.gz\n",
            "Downloading http://fashion-mnist.s3-website.eu-central-1.amazonaws.com/t10k-labels-idx1-ubyte.gz to ./data/FashionMNIST/raw/t10k-labels-idx1-ubyte.gz\n"
          ]
        },
        {
          "output_type": "stream",
          "name": "stderr",
          "text": [
            "100%|██████████| 5148/5148 [00:00<00:00, 33321415.11it/s]"
          ]
        },
        {
          "output_type": "stream",
          "name": "stdout",
          "text": [
            "Extracting ./data/FashionMNIST/raw/t10k-labels-idx1-ubyte.gz to ./data/FashionMNIST/raw\n",
            "\n"
          ]
        },
        {
          "output_type": "stream",
          "name": "stderr",
          "text": [
            "\n"
          ]
        }
      ]
    },
    {
      "cell_type": "code",
      "source": [
        "class SimpleCNN(nn.Module):\n",
        "    def __init__(self, num_filters=16, kernel_size=3, stride=1, padding=1):\n",
        "        super(SimpleCNN, self).__init__()\n",
        "        self.num_filters = num_filters  # Set num_filters as an instance variable\n",
        "        self.conv1 = nn.Conv2d(1, self.num_filters, kernel_size, stride=stride, padding=padding)\n",
        "        self.pool = nn.MaxPool2d(2, 2)\n",
        "        self.conv2 = nn.Conv2d(self.num_filters, 2*self.num_filters, kernel_size, stride=stride, padding=padding)\n",
        "        self.fc1 = nn.Linear(2*self.num_filters * 7 * 7, 128)\n",
        "        self.fc2 = nn.Linear(128, 10)\n",
        "        self.relu = nn.ReLU()\n",
        "\n",
        "    def forward(self, x):\n",
        "        x = self.pool(self.relu(self.conv1(x)))\n",
        "        x = self.pool(self.relu(self.conv2(x)))\n",
        "        x = x.view(-1, 2*self.num_filters * 7 * 7)\n",
        "        x = self.relu(self.fc1(x))\n",
        "        x = self.fc2(x)\n",
        "        return x\n",
        "\n",
        "def train_model(model, train_loader, criterion, optimizer, epochs=10):\n",
        "    model.train()\n",
        "    for epoch in range(epochs):\n",
        "        for X_batch, y_batch in train_loader:\n",
        "            optimizer.zero_grad()\n",
        "            outputs = model(X_batch)\n",
        "            loss = criterion(outputs, y_batch)\n",
        "            loss.backward()\n",
        "            optimizer.step()\n",
        "\n",
        "def evaluate_model(model, test_loader):\n",
        "    model.eval()\n",
        "    correct = 0\n",
        "    total = 0\n",
        "    with torch.no_grad():\n",
        "        for X_batch, y_batch in test_loader:\n",
        "            outputs = model(X_batch)\n",
        "            _, predicted = torch.max(outputs.data, 1)\n",
        "            total += y_batch.size(0)\n",
        "            correct += (predicted == y_batch).sum().item()\n",
        "    return 100 * correct / total\n"
      ],
      "metadata": {
        "id": "1Z1-VoLaUbHF"
      },
      "execution_count": null,
      "outputs": []
    },
    {
      "cell_type": "code",
      "source": [
        "num_filters = [8, 16, 32, 64]\n",
        "accuracies = []\n",
        "for filters in num_filters:\n",
        "    model = SimpleCNN(num_filters=filters)\n",
        "    criterion = nn.CrossEntropyLoss()\n",
        "    optimizer = optim.Adam(model.parameters(), lr=0.001)\n",
        "    train_model(model, train_loader, criterion, optimizer)\n",
        "    accuracy = evaluate_model(model, test_loader)\n",
        "    accuracies.append(accuracy)\n",
        "\n",
        "plt.plot(num_filters, accuracies)\n",
        "plt.xlabel('Number of Filters')\n",
        "plt.ylabel('Test Accuracy')\n",
        "plt.title('Effect of Number of Filters on Test Accuracy')\n",
        "plt.show()\n"
      ],
      "metadata": {
        "colab": {
          "base_uri": "https://localhost:8080/",
          "height": 472
        },
        "id": "jCVauZfpTL-3",
        "outputId": "625ea45a-098c-422b-add9-b24c31c2c70d"
      },
      "execution_count": null,
      "outputs": [
        {
          "output_type": "display_data",
          "data": {
            "text/plain": [
              "<Figure size 640x480 with 1 Axes>"
            ],
            "image/png": "[encoded data removed]"
          },
          "metadata": {}
        }
      ]
    },
    {
      "cell_type": "markdown",
      "source": [
        "# **Creativity: Experiment impact of varying Kernel Size (CNN)**"
      ],
      "metadata": {
        "id": "bU6NXDAXTWPj"
      }
    },
    {
      "cell_type": "code",
      "source": [
        "class SimpleCNN(nn.Module):\n",
        "    def __init__(self, num_filters=16, kernel_size=3, stride=1, padding=1):\n",
        "        super(SimpleCNN, self).__init__()\n",
        "        self.num_filters = num_filters\n",
        "        self.conv1 = nn.Conv2d(1, self.num_filters, kernel_size, stride=stride, padding=padding)\n",
        "        self.pool = nn.MaxPool2d(2, 2)\n",
        "        self.conv2 = nn.Conv2d(self.num_filters, 2*self.num_filters, kernel_size, stride=stride, padding=padding)\n",
        "        self.relu = nn.ReLU()\n",
        "\n",
        "        # Dummy input to calculate the output size after conv and pool layers\n",
        "        input_size = (1, 28, 28)  # Assuming input images are 28x28\n",
        "        dummy_input = torch.zeros(1, *input_size)\n",
        "        output_size = self.forward_features(dummy_input).view(-1).shape[0]\n",
        "\n",
        "        self.fc1 = nn.Linear(output_size, 128)\n",
        "        self.fc2 = nn.Linear(128, 10)\n",
        "\n",
        "    def forward_features(self, x):\n",
        "        x = self.pool(self.relu(self.conv1(x)))\n",
        "        x = self.pool(self.relu(self.conv2(x)))\n",
        "        return x\n",
        "\n",
        "    def forward(self, x):\n",
        "        x = self.forward_features(x)\n",
        "        x = x.view(x.size(0), -1)\n",
        "        x = self.relu(self.fc1(x))\n",
        "        x = self.fc2(x)\n",
        "        return x\n",
        "def train_model(model, train_loader, criterion, optimizer, epochs=10):\n",
        "    model.train()\n",
        "    for epoch in range(epochs):\n",
        "        for X_batch, y_batch in train_loader:\n",
        "            optimizer.zero_grad()\n",
        "            outputs = model(X_batch)\n",
        "            loss = criterion(outputs, y_batch)\n",
        "            loss.backward()\n",
        "            optimizer.step()\n",
        "\n",
        "def evaluate_model(model, test_loader):\n",
        "    model.eval()\n",
        "    correct = 0\n",
        "    total = 0\n",
        "    with torch.no_grad():\n",
        "        for X_batch, y_batch in test_loader:\n",
        "            outputs = model(X_batch)\n",
        "            _, predicted = torch.max(outputs.data, 1)\n",
        "            total += y_batch.size(0)\n",
        "            correct += (predicted == y_batch).sum().item()\n",
        "    return 100 * correct / total"
      ],
      "metadata": {
        "id": "8SpcF_UdWEFN"
      },
      "execution_count": null,
      "outputs": []
    },
    {
      "cell_type": "code",
      "source": [
        "kernel_sizes = [3, 5, 7]\n",
        "accuracies = []\n",
        "for kernel_size in kernel_sizes:\n",
        "    model = SimpleCNN(kernel_size=kernel_size)\n",
        "    criterion = nn.CrossEntropyLoss()\n",
        "    optimizer = optim.Adam(model.parameters(), lr=0.001)\n",
        "    train_model(model, train_loader, criterion, optimizer, epochs=5)\n",
        "    accuracy = evaluate_model(model, test_loader)\n",
        "    accuracies.append(accuracy)\n",
        "\n",
        "plt.plot(kernel_sizes, accuracies)\n",
        "plt.xlabel('Kernel Size')\n",
        "plt.ylabel('Test Accuracy')\n",
        "plt.title('Effect of Kernel Size on Test Accuracy')\n",
        "plt.show()\n"
      ],
      "metadata": {
        "id": "IXJIGjt0Teta",
        "colab": {
          "base_uri": "https://localhost:8080/",
          "height": 472
        },
        "outputId": "55cde65f-4428-4df9-d0fd-9f077a10be98"
      },
      "execution_count": null,
      "outputs": [
        {
          "output_type": "display_data",
          "data": {
            "text/plain": [
              "<Figure size 640x480 with 1 Axes>"
            ],
            "image/png": "[encoded data removed]"
          },
          "metadata": {}
        }
      ]
    },
    {
      "cell_type": "markdown",
      "source": [
        "# **Creativity: Experiment impact of varying Stride (CNN)**"
      ],
      "metadata": {
        "id": "Q9v32iDxWLya"
      }
    },
    {
      "cell_type": "code",
      "source": [
        "import torch\n",
        "import torch.nn as nn\n",
        "import torch.optim as optim\n",
        "import matplotlib.pyplot as plt\n",
        "\n",
        "class SimpleCNN(nn.Module):\n",
        "    def __init__(self, num_filters=16, kernel_size=3, stride=1, padding=1):\n",
        "        super(SimpleCNN, self).__init__()\n",
        "        self.num_filters = num_filters\n",
        "        self.stride = stride\n",
        "        self.conv1 = nn.Conv2d(1, self.num_filters, kernel_size, stride=self.stride, padding=padding)\n",
        "        self.pool = nn.MaxPool2d(2, 2)\n",
        "        self.conv2 = nn.Conv2d(self.num_filters, 2*self.num_filters, kernel_size, stride=self.stride, padding=padding)\n",
        "        self.relu = nn.ReLU()\n",
        "\n",
        "        # Dummy input to calculate the output size after conv and pool layers\n",
        "        input_size = (1, 28, 28)  # Assuming input images are 28x28\n",
        "        dummy_input = torch.zeros(1, *input_size)\n",
        "        output_size = self.forward_features(dummy_input).view(-1).shape[0]\n",
        "\n",
        "        self.fc1 = nn.Linear(output_size, 128)\n",
        "        self.fc2 = nn.Linear(128, 10)\n",
        "\n",
        "    def forward_features(self, x):\n",
        "        x = self.pool(self.relu(self.conv1(x)))\n",
        "        x = self.pool(self.relu(self.conv2(x)))\n",
        "        return x\n",
        "\n",
        "    def forward(self, x):\n",
        "        x = self.forward_features(x)\n",
        "        x = x.view(x.size(0), -1)\n",
        "        x = self.relu(self.fc1(x))\n",
        "        x = self.fc2(x)\n",
        "        return x\n",
        "\n",
        "def train_model(model, train_loader, criterion, optimizer, epochs=10):\n",
        "    model.train()\n",
        "    for epoch in range(epochs):\n",
        "        for X_batch, y_batch in train_loader:\n",
        "            optimizer.zero_grad()\n",
        "            outputs = model(X_batch)\n",
        "            loss = criterion(outputs, y_batch)\n",
        "            loss.backward()\n",
        "            optimizer.step()\n",
        "\n",
        "def evaluate_model(model, test_loader):\n",
        "    model.eval()\n",
        "    correct = 0\n",
        "    total = 0\n",
        "    with torch.no_grad():\n",
        "        for X_batch, y_batch in test_loader:\n",
        "            outputs = model(X_batch)\n",
        "            _, predicted = torch.max(outputs.data, 1)\n",
        "            total += y_batch.size(0)\n",
        "            correct += (predicted == y_batch).sum().item()\n",
        "    return 100 * correct / total"
      ],
      "metadata": {
        "id": "OYE8KyUBWSnF"
      },
      "execution_count": null,
      "outputs": []
    },
    {
      "cell_type": "code",
      "source": [
        "# Ensure train_loader and test_loader are defined before running this code\n",
        "\n",
        "strides = [1, 2, 3]\n",
        "accuracies = []\n",
        "for stride in strides:\n",
        "    model = SimpleCNN(stride=stride)\n",
        "    criterion = nn.CrossEntropyLoss()\n",
        "    optimizer = optim.Adam(model.parameters(), lr=0.001)\n",
        "    train_model(model, train_loader, criterion, optimizer, epochs=5)\n",
        "    accuracy = evaluate_model(model, test_loader)\n",
        "    accuracies.append(accuracy)\n",
        "\n",
        "plt.plot(strides, accuracies)\n",
        "plt.xlabel('Stride')\n",
        "plt.ylabel('Test Accuracy')\n",
        "plt.title('Effect of Stride on Test Accuracy')\n",
        "plt.show()\n"
      ],
      "metadata": {
        "colab": {
          "base_uri": "https://localhost:8080/",
          "height": 472
        },
        "id": "rUXDRHDqWg7u",
        "outputId": "236ac5fc-fd1c-4ffa-ee34-bef1722ae65f"
      },
      "execution_count": null,
      "outputs": [
        {
          "output_type": "display_data",
          "data": {
            "text/plain": [
              "<Figure size 640x480 with 1 Axes>"
            ],
            "image/png": "[encoded data removed]"
          },
          "metadata": {}
        }
      ]
    },
    {
      "cell_type": "markdown",
      "source": [
        "# **Creativity: Experiment impact of varying padding (CNN)**"
      ],
      "metadata": {
        "id": "piceR1iXWmUs"
      }
    },
    {
      "cell_type": "code",
      "source": [
        "import torch\n",
        "import torch.nn as nn\n",
        "import torch.optim as optim\n",
        "import matplotlib.pyplot as plt\n",
        "\n",
        "class SimpleCNN(nn.Module):\n",
        "    def __init__(self, num_filters=16, kernel_size=3, stride=1, padding=1):\n",
        "        super(SimpleCNN, self).__init__()\n",
        "        self.num_filters = num_filters\n",
        "        self.stride = stride\n",
        "        self.padding = padding\n",
        "        self.conv1 = nn.Conv2d(1, self.num_filters, kernel_size, stride=self.stride, padding=self.padding)\n",
        "        self.pool = nn.MaxPool2d(2, 2)\n",
        "        self.conv2 = nn.Conv2d(self.num_filters, 2*self.num_filters, kernel_size, stride=self.stride, padding=self.padding)\n",
        "        self.relu = nn.ReLU()\n",
        "\n",
        "        # Dummy input to calculate the output size after conv and pool layers\n",
        "        input_size = (1, 28, 28)  # Assuming input images are 28x28\n",
        "        dummy_input = torch.zeros(1, *input_size)\n",
        "        output_size = self.forward_features(dummy_input).view(-1).shape[0]\n",
        "\n",
        "        self.fc1 = nn.Linear(output_size, 128)\n",
        "        self.fc2 = nn.Linear(128, 10)\n",
        "\n",
        "    def forward_features(self, x):\n",
        "        x = self.pool(self.relu(self.conv1(x)))\n",
        "        x = self.pool(self.relu(self.conv2(x)))\n",
        "        return x\n",
        "\n",
        "    def forward(self, x):\n",
        "        x = self.forward_features(x)\n",
        "        x = x.view(x.size(0), -1)\n",
        "        x = self.relu(self.fc1(x))\n",
        "        x = self.fc2(x)\n",
        "        return x\n",
        "def train_model(model, train_loader, criterion, optimizer, epochs=10):\n",
        "    model.train()\n",
        "    for epoch in range(epochs):\n",
        "        for X_batch, y_batch in train_loader:\n",
        "            optimizer.zero_grad()\n",
        "            outputs = model(X_batch)\n",
        "            loss = criterion(outputs, y_batch)\n",
        "            loss.backward()\n",
        "            optimizer.step()\n",
        "\n",
        "def evaluate_model(model, test_loader):\n",
        "    model.eval()\n",
        "    correct = 0\n",
        "    total = 0\n",
        "    with torch.no_grad():\n",
        "        for X_batch, y_batch in test_loader:\n",
        "            outputs = model(X_batch)\n",
        "            _, predicted = torch.max(outputs.data, 1)\n",
        "            total += y_batch.size(0)\n",
        "            correct += (predicted == y_batch).sum().item()\n",
        "    return 100 * correct / total"
      ],
      "metadata": {
        "id": "c_zkf8sNWsOr"
      },
      "execution_count": null,
      "outputs": []
    },
    {
      "cell_type": "code",
      "source": [
        "# Ensure train_loader and test_loader are defined before running this code\n",
        "\n",
        "paddings = [0, 1, 2]\n",
        "accuracies = []\n",
        "for padding in paddings:\n",
        "    model = SimpleCNN(padding=padding)\n",
        "    criterion = nn.CrossEntropyLoss()\n",
        "    optimizer = optim.Adam(model.parameters(), lr=0.001)\n",
        "    train_model(model, train_loader, criterion, optimizer, epochs=5)\n",
        "    accuracy = evaluate_model(model, test_loader)\n",
        "    accuracies.append(accuracy)\n",
        "\n",
        "plt.plot(paddings, accuracies)\n",
        "plt.xlabel('Padding')\n",
        "plt.ylabel('Test Accuracy')\n",
        "plt.title('Effect of Padding on Test Accuracy')\n",
        "plt.show()\n"
      ],
      "metadata": {
        "colab": {
          "base_uri": "https://localhost:8080/",
          "height": 472
        },
        "id": "zlDvQnD4WxNU",
        "outputId": "81075b89-edab-4d46-a400-274043671230"
      },
      "execution_count": null,
      "outputs": [
        {
          "output_type": "display_data",
          "data": {
            "text/plain": [
              "<Figure size 640x480 with 1 Axes>"
            ],
            "image/png": "[encoded data removed]"
          },
          "metadata": {}
        }
      ]
    },
    {
      "cell_type": "markdown",
      "source": [
        "# **Creativity: Training CNN with 10^k, k element of {0,1,2,3,4} images and plotting the test accuracy**"
      ],
      "metadata": {
        "id": "wQAlLQdLaytj"
      }
    },
    {
      "cell_type": "code",
      "source": [
        "import torch\n",
        "import torch.nn as nn\n",
        "import torch.optim as optim\n",
        "import matplotlib.pyplot as plt\n",
        "from torch.utils.data import DataLoader, Subset\n",
        "from torchvision import datasets, transforms\n",
        "import numpy as np\n",
        "\n",
        "class SimpleCNN(nn.Module):\n",
        "    def __init__(self, num_filters=16, kernel_size=3, stride=1, padding=1):\n",
        "        super(SimpleCNN, self).__init__()\n",
        "        self.num_filters = num_filters\n",
        "        self.stride = stride\n",
        "        self.padding = padding\n",
        "        self.conv1 = nn.Conv2d(1, self.num_filters, kernel_size, stride=self.stride, padding=self.padding)\n",
        "        self.pool = nn.MaxPool2d(2, 2)\n",
        "        self.conv2 = nn.Conv2d(self.num_filters, 2*self.num_filters, kernel_size, stride=self.stride, padding=self.padding)\n",
        "        self.relu = nn.ReLU()\n",
        "\n",
        "        # Dummy input to calculate the output size after conv and pool layers\n",
        "        input_size = (1, 28, 28)  # Assuming input images are 28x28\n",
        "        dummy_input = torch.zeros(1, *input_size)\n",
        "        output_size = self.forward_features(dummy_input).view(-1).shape[0]\n",
        "\n",
        "        self.fc1 = nn.Linear(output_size, 128)\n",
        "        self.fc2 = nn.Linear(128, 10)\n",
        "\n",
        "    def forward_features(self, x):\n",
        "        x = self.pool(self.relu(self.conv1(x)))\n",
        "        x = self.pool(self.relu(self.conv2(x)))\n",
        "        return x\n",
        "\n",
        "    def forward(self, x):\n",
        "        x = self.forward_features(x)\n",
        "        x = x.view(x.size(0), -1)\n",
        "        x = self.relu(self.fc1(x))\n",
        "        x = self.fc2(x)\n",
        "        return x\n",
        "\n",
        "# Training Function\n",
        "def train_model(model, train_loader, criterion, optimizer, epochs=10):\n",
        "    model.train()\n",
        "    for epoch in range(epochs):\n",
        "        for X_batch, y_batch in train_loader:\n",
        "            optimizer.zero_grad()\n",
        "            outputs = model(X_batch)\n",
        "            loss = criterion(outputs, y_batch)\n",
        "            loss.backward()\n",
        "            optimizer.step()\n",
        "\n",
        "# Evaluation Function\n",
        "def evaluate_model(model, test_loader):\n",
        "    model.eval()\n",
        "    correct = 0\n",
        "    total = 0\n",
        "    with torch.no_grad():\n",
        "        for X_batch, y_batch in test_loader:\n",
        "            outputs = model(X_batch)\n",
        "            _, predicted = torch.max(outputs.data, 1)\n",
        "            total += y_batch.size(0)\n",
        "            correct += (predicted == y_batch).sum().item()\n",
        "    return 100 * correct / total\n",
        "\n",
        "# Loading the Dataset\n",
        "def load_data(num_images):\n",
        "    transform = transforms.Compose([transforms.ToTensor(), transforms.Normalize((0.5,), (0.5,))])\n",
        "    train_dataset = datasets.MNIST(root='./data', train=True, download=True, transform=transform)\n",
        "    test_dataset = datasets.MNIST(root='./data', train=False, download=True, transform=transform)\n",
        "\n",
        "    indices = np.arange(len(train_dataset))\n",
        "    np.random.shuffle(indices)\n",
        "    indices = indices[:num_images]\n",
        "    subset_train_dataset = Subset(train_dataset, indices)\n",
        "\n",
        "    train_loader = DataLoader(dataset=subset_train_dataset, batch_size=64, shuffle=True)\n",
        "    test_loader = DataLoader(dataset=test_dataset, batch_size=1000, shuffle=False)\n",
        "    return train_loader, test_loader\n",
        "\n",
        "# Experiment\n",
        "num_images = [10**k for k in range(5)]\n",
        "accuracies = []\n",
        "\n",
        "for images in num_images:\n",
        "    train_loader, test_loader = load_data(num_images=images)\n",
        "    model = SimpleCNN()\n",
        "    criterion = nn.CrossEntropyLoss()\n",
        "    optimizer = optim.Adam(model.parameters(), lr=0.001)\n",
        "    train_model(model, train_loader, criterion, optimizer, epochs=5)\n",
        "    accuracy = evaluate_model(model, test_loader)\n",
        "    accuracies.append(accuracy)\n",
        "\n",
        "# Plotting the Results\n",
        "plt.plot(num_images, accuracies)\n",
        "plt.xscale('log')\n",
        "plt.xlabel('Number of Training Images (log scale)')\n",
        "plt.ylabel('Test Accuracy')\n",
        "plt.title('Effect of Training Set Size on Test Accuracy')\n",
        "plt.show()\n"
      ],
      "metadata": {
        "colab": {
          "base_uri": "https://localhost:8080/",
          "height": 833
        },
        "id": "RBOoSceWcac5",
        "outputId": "fd029328-ccc4-4669-e9e3-e30dbc17ad50"
      },
      "execution_count": null,
      "outputs": [
        {
          "output_type": "stream",
          "name": "stdout",
          "text": [
            "Downloading http://yann.lecun.com/exdb/mnist/train-images-idx3-ubyte.gz\n",
            "Downloading http://yann.lecun.com/exdb/mnist/train-images-idx3-ubyte.gz to ./data/MNIST/raw/train-images-idx3-ubyte.gz\n"
          ]
        },
        {
          "output_type": "stream",
          "name": "stderr",
          "text": [
            "100%|██████████| 9912422/9912422 [00:00<00:00, 105526930.78it/s]\n"
          ]
        },
        {
          "output_type": "stream",
          "name": "stdout",
          "text": [
            "Extracting ./data/MNIST/raw/train-images-idx3-ubyte.gz to ./data/MNIST/raw\n",
            "\n",
            "Downloading http://yann.lecun.com/exdb/mnist/train-labels-idx1-ubyte.gz\n",
            "Downloading http://yann.lecun.com/exdb/mnist/train-labels-idx1-ubyte.gz to ./data/MNIST/raw/train-labels-idx1-ubyte.gz\n"
          ]
        },
        {
          "output_type": "stream",
          "name": "stderr",
          "text": [
            "100%|██████████| 28881/28881 [00:00<00:00, 38565964.29it/s]\n"
          ]
        },
        {
          "output_type": "stream",
          "name": "stdout",
          "text": [
            "Extracting ./data/MNIST/raw/train-labels-idx1-ubyte.gz to ./data/MNIST/raw\n",
            "\n",
            "Downloading http://yann.lecun.com/exdb/mnist/t10k-images-idx3-ubyte.gz\n",
            "Downloading http://yann.lecun.com/exdb/mnist/t10k-images-idx3-ubyte.gz to ./data/MNIST/raw/t10k-images-idx3-ubyte.gz\n"
          ]
        },
        {
          "output_type": "stream",
          "name": "stderr",
          "text": [
            "100%|██████████| 1648877/1648877 [00:00<00:00, 24754425.50it/s]\n"
          ]
        },
        {
          "output_type": "stream",
          "name": "stdout",
          "text": [
            "Extracting ./data/MNIST/raw/t10k-images-idx3-ubyte.gz to ./data/MNIST/raw\n",
            "\n",
            "Downloading http://yann.lecun.com/exdb/mnist/t10k-labels-idx1-ubyte.gz\n",
            "Downloading http://yann.lecun.com/exdb/mnist/t10k-labels-idx1-ubyte.gz to ./data/MNIST/raw/t10k-labels-idx1-ubyte.gz\n"
          ]
        },
        {
          "output_type": "stream",
          "name": "stderr",
          "text": [
            "100%|██████████| 4542/4542 [00:00<00:00, 17477549.33it/s]\n"
          ]
        },
        {
          "output_type": "stream",
          "name": "stdout",
          "text": [
            "Extracting ./data/MNIST/raw/t10k-labels-idx1-ubyte.gz to ./data/MNIST/raw\n",
            "\n"
          ]
        },
        {
          "output_type": "display_data",
          "data": {
            "text/plain": [
              "<Figure size 640x480 with 1 Axes>"
            ],
            "image/png": "[encoded data removed]"
          },
          "metadata": {}
        }
      ]
    }
  ]
}